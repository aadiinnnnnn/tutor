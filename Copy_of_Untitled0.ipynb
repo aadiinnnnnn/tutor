{
  "nbformat": 4,
  "nbformat_minor": 0,
  "metadata": {
    "colab": {
      "provenance": [],
      "include_colab_link": true
    },
    "kernelspec": {
      "name": "python3",
      "display_name": "Python 3"
    },
    "language_info": {
      "name": "python"
    }
  },
  "cells": [
    {
      "cell_type": "markdown",
      "metadata": {
        "id": "view-in-github",
        "colab_type": "text"
      },
      "source": [
        "<a href=\"https://colab.research.google.com/github/aadiinnnnnn/tutor/blob/main/Copy_of_Untitled0.ipynb\" target=\"_parent\"><img src=\"https://colab.research.google.com/assets/colab-badge.svg\" alt=\"Open In Colab\"/></a>"
      ]
    },
    {
      "cell_type": "markdown",
      "source": [
        "# Import library"
      ],
      "metadata": {
        "id": "9rKnnaggMKKV"
      }
    },
    {
      "cell_type": "code",
      "source": [
        "import pandas as pd"
      ],
      "metadata": {
        "id": "E_cic6u8MIlR"
      },
      "execution_count": null,
      "outputs": []
    },
    {
      "cell_type": "code",
      "source": [
        "df = pd.read_excel(\"Cancer_Treatment_Performance_Global_KPIs_Dataset.xlsx\", engine='openpyxl')"
      ],
      "metadata": {
        "id": "IQ7aMeqxMQnm"
      },
      "execution_count": null,
      "outputs": []
    },
    {
      "cell_type": "markdown",
      "source": [
        "Untuk Menampilkan 5 baris awal"
      ],
      "metadata": {
        "id": "m8iJ9qdOMre3"
      }
    },
    {
      "cell_type": "code",
      "source": [
        "df.head()"
      ],
      "metadata": {
        "colab": {
          "base_uri": "https://localhost:8080/",
          "height": 313
        },
        "id": "UoyzAG8vMw4D",
        "outputId": "45e5e2fe-aacd-4055-b570-9f7fe5735b28"
      },
      "execution_count": null,
      "outputs": [
        {
          "output_type": "execute_result",
          "data": {
            "text/plain": [
              "   Patient_ID          Diagnosis      Stage Start_Date   End_Date    Outcome  \\\n",
              "0        1001           Melanoma    Stage I 2022-01-26 2022-09-02     Stable   \n",
              "1        1002           Melanoma    Stage I 2023-08-28 2024-01-13  Remission   \n",
              "2        1003  Colorectal Cancer    Stage I 2023-07-29 2023-10-17   Deceased   \n",
              "3        1004    Prostate Cancer    Stage I 2022-06-13 2023-01-07   Deceased   \n",
              "4        1005        Lung Cancer  Stage III 2022-04-15 2022-06-07   Deceased   \n",
              "\n",
              "   Treatment_Response_Score Drug_Regimen          Hospital     Doctor  \\\n",
              "0                      79.9    Regimen B       MD Anderson    Dr. Lee   \n",
              "1                      67.2    Regimen A   Sloan Kettering    Dr. Lee   \n",
              "2                      83.0    Regimen B  Cleveland Clinic  Dr. Brown   \n",
              "3                     100.0    Regimen C     Johns Hopkins    Dr. Lee   \n",
              "4                      65.3    Regimen A     Johns Hopkins   Dr. Chen   \n",
              "\n",
              "  Survival_Status  Treatment_Cost_USD  Number_of_Cycles  \\\n",
              "0           Alive            34529.91                 4   \n",
              "1           Alive            42163.57                 6   \n",
              "2        Deceased            27607.05                 4   \n",
              "3        Deceased            38780.35                 9   \n",
              "4        Deceased            31023.07                 4   \n",
              "\n",
              "   Time_to_Response_Days  Follow_Up_Visits  \n",
              "0                     42                 5  \n",
              "1                     30                 2  \n",
              "2                     90                 1  \n",
              "3                     31                 8  \n",
              "4                     57                 2  "
            ],
            "text/html": [
              "\n",
              "  <div id=\"df-81d81742-8d63-4932-9369-aa206f52d955\" class=\"colab-df-container\">\n",
              "    <div>\n",
              "<style scoped>\n",
              "    .dataframe tbody tr th:only-of-type {\n",
              "        vertical-align: middle;\n",
              "    }\n",
              "\n",
              "    .dataframe tbody tr th {\n",
              "        vertical-align: top;\n",
              "    }\n",
              "\n",
              "    .dataframe thead th {\n",
              "        text-align: right;\n",
              "    }\n",
              "</style>\n",
              "<table border=\"1\" class=\"dataframe\">\n",
              "  <thead>\n",
              "    <tr style=\"text-align: right;\">\n",
              "      <th></th>\n",
              "      <th>Patient_ID</th>\n",
              "      <th>Diagnosis</th>\n",
              "      <th>Stage</th>\n",
              "      <th>Start_Date</th>\n",
              "      <th>End_Date</th>\n",
              "      <th>Outcome</th>\n",
              "      <th>Treatment_Response_Score</th>\n",
              "      <th>Drug_Regimen</th>\n",
              "      <th>Hospital</th>\n",
              "      <th>Doctor</th>\n",
              "      <th>Survival_Status</th>\n",
              "      <th>Treatment_Cost_USD</th>\n",
              "      <th>Number_of_Cycles</th>\n",
              "      <th>Time_to_Response_Days</th>\n",
              "      <th>Follow_Up_Visits</th>\n",
              "    </tr>\n",
              "  </thead>\n",
              "  <tbody>\n",
              "    <tr>\n",
              "      <th>0</th>\n",
              "      <td>1001</td>\n",
              "      <td>Melanoma</td>\n",
              "      <td>Stage I</td>\n",
              "      <td>2022-01-26</td>\n",
              "      <td>2022-09-02</td>\n",
              "      <td>Stable</td>\n",
              "      <td>79.9</td>\n",
              "      <td>Regimen B</td>\n",
              "      <td>MD Anderson</td>\n",
              "      <td>Dr. Lee</td>\n",
              "      <td>Alive</td>\n",
              "      <td>34529.91</td>\n",
              "      <td>4</td>\n",
              "      <td>42</td>\n",
              "      <td>5</td>\n",
              "    </tr>\n",
              "    <tr>\n",
              "      <th>1</th>\n",
              "      <td>1002</td>\n",
              "      <td>Melanoma</td>\n",
              "      <td>Stage I</td>\n",
              "      <td>2023-08-28</td>\n",
              "      <td>2024-01-13</td>\n",
              "      <td>Remission</td>\n",
              "      <td>67.2</td>\n",
              "      <td>Regimen A</td>\n",
              "      <td>Sloan Kettering</td>\n",
              "      <td>Dr. Lee</td>\n",
              "      <td>Alive</td>\n",
              "      <td>42163.57</td>\n",
              "      <td>6</td>\n",
              "      <td>30</td>\n",
              "      <td>2</td>\n",
              "    </tr>\n",
              "    <tr>\n",
              "      <th>2</th>\n",
              "      <td>1003</td>\n",
              "      <td>Colorectal Cancer</td>\n",
              "      <td>Stage I</td>\n",
              "      <td>2023-07-29</td>\n",
              "      <td>2023-10-17</td>\n",
              "      <td>Deceased</td>\n",
              "      <td>83.0</td>\n",
              "      <td>Regimen B</td>\n",
              "      <td>Cleveland Clinic</td>\n",
              "      <td>Dr. Brown</td>\n",
              "      <td>Deceased</td>\n",
              "      <td>27607.05</td>\n",
              "      <td>4</td>\n",
              "      <td>90</td>\n",
              "      <td>1</td>\n",
              "    </tr>\n",
              "    <tr>\n",
              "      <th>3</th>\n",
              "      <td>1004</td>\n",
              "      <td>Prostate Cancer</td>\n",
              "      <td>Stage I</td>\n",
              "      <td>2022-06-13</td>\n",
              "      <td>2023-01-07</td>\n",
              "      <td>Deceased</td>\n",
              "      <td>100.0</td>\n",
              "      <td>Regimen C</td>\n",
              "      <td>Johns Hopkins</td>\n",
              "      <td>Dr. Lee</td>\n",
              "      <td>Deceased</td>\n",
              "      <td>38780.35</td>\n",
              "      <td>9</td>\n",
              "      <td>31</td>\n",
              "      <td>8</td>\n",
              "    </tr>\n",
              "    <tr>\n",
              "      <th>4</th>\n",
              "      <td>1005</td>\n",
              "      <td>Lung Cancer</td>\n",
              "      <td>Stage III</td>\n",
              "      <td>2022-04-15</td>\n",
              "      <td>2022-06-07</td>\n",
              "      <td>Deceased</td>\n",
              "      <td>65.3</td>\n",
              "      <td>Regimen A</td>\n",
              "      <td>Johns Hopkins</td>\n",
              "      <td>Dr. Chen</td>\n",
              "      <td>Deceased</td>\n",
              "      <td>31023.07</td>\n",
              "      <td>4</td>\n",
              "      <td>57</td>\n",
              "      <td>2</td>\n",
              "    </tr>\n",
              "  </tbody>\n",
              "</table>\n",
              "</div>\n",
              "    <div class=\"colab-df-buttons\">\n",
              "\n",
              "  <div class=\"colab-df-container\">\n",
              "    <button class=\"colab-df-convert\" onclick=\"convertToInteractive('df-81d81742-8d63-4932-9369-aa206f52d955')\"\n",
              "            title=\"Convert this dataframe to an interactive table.\"\n",
              "            style=\"display:none;\">\n",
              "\n",
              "  <svg xmlns=\"http://www.w3.org/2000/svg\" height=\"24px\" viewBox=\"0 -960 960 960\">\n",
              "    <path d=\"M120-120v-720h720v720H120Zm60-500h600v-160H180v160Zm220 220h160v-160H400v160Zm0 220h160v-160H400v160ZM180-400h160v-160H180v160Zm440 0h160v-160H620v160ZM180-180h160v-160H180v160Zm440 0h160v-160H620v160Z\"/>\n",
              "  </svg>\n",
              "    </button>\n",
              "\n",
              "  <style>\n",
              "    .colab-df-container {\n",
              "      display:flex;\n",
              "      gap: 12px;\n",
              "    }\n",
              "\n",
              "    .colab-df-convert {\n",
              "      background-color: #E8F0FE;\n",
              "      border: none;\n",
              "      border-radius: 50%;\n",
              "      cursor: pointer;\n",
              "      display: none;\n",
              "      fill: #1967D2;\n",
              "      height: 32px;\n",
              "      padding: 0 0 0 0;\n",
              "      width: 32px;\n",
              "    }\n",
              "\n",
              "    .colab-df-convert:hover {\n",
              "      background-color: #E2EBFA;\n",
              "      box-shadow: 0px 1px 2px rgba(60, 64, 67, 0.3), 0px 1px 3px 1px rgba(60, 64, 67, 0.15);\n",
              "      fill: #174EA6;\n",
              "    }\n",
              "\n",
              "    .colab-df-buttons div {\n",
              "      margin-bottom: 4px;\n",
              "    }\n",
              "\n",
              "    [theme=dark] .colab-df-convert {\n",
              "      background-color: #3B4455;\n",
              "      fill: #D2E3FC;\n",
              "    }\n",
              "\n",
              "    [theme=dark] .colab-df-convert:hover {\n",
              "      background-color: #434B5C;\n",
              "      box-shadow: 0px 1px 3px 1px rgba(0, 0, 0, 0.15);\n",
              "      filter: drop-shadow(0px 1px 2px rgba(0, 0, 0, 0.3));\n",
              "      fill: #FFFFFF;\n",
              "    }\n",
              "  </style>\n",
              "\n",
              "    <script>\n",
              "      const buttonEl =\n",
              "        document.querySelector('#df-81d81742-8d63-4932-9369-aa206f52d955 button.colab-df-convert');\n",
              "      buttonEl.style.display =\n",
              "        google.colab.kernel.accessAllowed ? 'block' : 'none';\n",
              "\n",
              "      async function convertToInteractive(key) {\n",
              "        const element = document.querySelector('#df-81d81742-8d63-4932-9369-aa206f52d955');\n",
              "        const dataTable =\n",
              "          await google.colab.kernel.invokeFunction('convertToInteractive',\n",
              "                                                    [key], {});\n",
              "        if (!dataTable) return;\n",
              "\n",
              "        const docLinkHtml = 'Like what you see? Visit the ' +\n",
              "          '<a target=\"_blank\" href=https://colab.research.google.com/notebooks/data_table.ipynb>data table notebook</a>'\n",
              "          + ' to learn more about interactive tables.';\n",
              "        element.innerHTML = '';\n",
              "        dataTable['output_type'] = 'display_data';\n",
              "        await google.colab.output.renderOutput(dataTable, element);\n",
              "        const docLink = document.createElement('div');\n",
              "        docLink.innerHTML = docLinkHtml;\n",
              "        element.appendChild(docLink);\n",
              "      }\n",
              "    </script>\n",
              "  </div>\n",
              "\n",
              "\n",
              "    <div id=\"df-c750542b-d187-44de-820c-9cfba86cd5f8\">\n",
              "      <button class=\"colab-df-quickchart\" onclick=\"quickchart('df-c750542b-d187-44de-820c-9cfba86cd5f8')\"\n",
              "                title=\"Suggest charts\"\n",
              "                style=\"display:none;\">\n",
              "\n",
              "<svg xmlns=\"http://www.w3.org/2000/svg\" height=\"24px\"viewBox=\"0 0 24 24\"\n",
              "     width=\"24px\">\n",
              "    <g>\n",
              "        <path d=\"M19 3H5c-1.1 0-2 .9-2 2v14c0 1.1.9 2 2 2h14c1.1 0 2-.9 2-2V5c0-1.1-.9-2-2-2zM9 17H7v-7h2v7zm4 0h-2V7h2v10zm4 0h-2v-4h2v4z\"/>\n",
              "    </g>\n",
              "</svg>\n",
              "      </button>\n",
              "\n",
              "<style>\n",
              "  .colab-df-quickchart {\n",
              "      --bg-color: #E8F0FE;\n",
              "      --fill-color: #1967D2;\n",
              "      --hover-bg-color: #E2EBFA;\n",
              "      --hover-fill-color: #174EA6;\n",
              "      --disabled-fill-color: #AAA;\n",
              "      --disabled-bg-color: #DDD;\n",
              "  }\n",
              "\n",
              "  [theme=dark] .colab-df-quickchart {\n",
              "      --bg-color: #3B4455;\n",
              "      --fill-color: #D2E3FC;\n",
              "      --hover-bg-color: #434B5C;\n",
              "      --hover-fill-color: #FFFFFF;\n",
              "      --disabled-bg-color: #3B4455;\n",
              "      --disabled-fill-color: #666;\n",
              "  }\n",
              "\n",
              "  .colab-df-quickchart {\n",
              "    background-color: var(--bg-color);\n",
              "    border: none;\n",
              "    border-radius: 50%;\n",
              "    cursor: pointer;\n",
              "    display: none;\n",
              "    fill: var(--fill-color);\n",
              "    height: 32px;\n",
              "    padding: 0;\n",
              "    width: 32px;\n",
              "  }\n",
              "\n",
              "  .colab-df-quickchart:hover {\n",
              "    background-color: var(--hover-bg-color);\n",
              "    box-shadow: 0 1px 2px rgba(60, 64, 67, 0.3), 0 1px 3px 1px rgba(60, 64, 67, 0.15);\n",
              "    fill: var(--button-hover-fill-color);\n",
              "  }\n",
              "\n",
              "  .colab-df-quickchart-complete:disabled,\n",
              "  .colab-df-quickchart-complete:disabled:hover {\n",
              "    background-color: var(--disabled-bg-color);\n",
              "    fill: var(--disabled-fill-color);\n",
              "    box-shadow: none;\n",
              "  }\n",
              "\n",
              "  .colab-df-spinner {\n",
              "    border: 2px solid var(--fill-color);\n",
              "    border-color: transparent;\n",
              "    border-bottom-color: var(--fill-color);\n",
              "    animation:\n",
              "      spin 1s steps(1) infinite;\n",
              "  }\n",
              "\n",
              "  @keyframes spin {\n",
              "    0% {\n",
              "      border-color: transparent;\n",
              "      border-bottom-color: var(--fill-color);\n",
              "      border-left-color: var(--fill-color);\n",
              "    }\n",
              "    20% {\n",
              "      border-color: transparent;\n",
              "      border-left-color: var(--fill-color);\n",
              "      border-top-color: var(--fill-color);\n",
              "    }\n",
              "    30% {\n",
              "      border-color: transparent;\n",
              "      border-left-color: var(--fill-color);\n",
              "      border-top-color: var(--fill-color);\n",
              "      border-right-color: var(--fill-color);\n",
              "    }\n",
              "    40% {\n",
              "      border-color: transparent;\n",
              "      border-right-color: var(--fill-color);\n",
              "      border-top-color: var(--fill-color);\n",
              "    }\n",
              "    60% {\n",
              "      border-color: transparent;\n",
              "      border-right-color: var(--fill-color);\n",
              "    }\n",
              "    80% {\n",
              "      border-color: transparent;\n",
              "      border-right-color: var(--fill-color);\n",
              "      border-bottom-color: var(--fill-color);\n",
              "    }\n",
              "    90% {\n",
              "      border-color: transparent;\n",
              "      border-bottom-color: var(--fill-color);\n",
              "    }\n",
              "  }\n",
              "</style>\n",
              "\n",
              "      <script>\n",
              "        async function quickchart(key) {\n",
              "          const quickchartButtonEl =\n",
              "            document.querySelector('#' + key + ' button');\n",
              "          quickchartButtonEl.disabled = true;  // To prevent multiple clicks.\n",
              "          quickchartButtonEl.classList.add('colab-df-spinner');\n",
              "          try {\n",
              "            const charts = await google.colab.kernel.invokeFunction(\n",
              "                'suggestCharts', [key], {});\n",
              "          } catch (error) {\n",
              "            console.error('Error during call to suggestCharts:', error);\n",
              "          }\n",
              "          quickchartButtonEl.classList.remove('colab-df-spinner');\n",
              "          quickchartButtonEl.classList.add('colab-df-quickchart-complete');\n",
              "        }\n",
              "        (() => {\n",
              "          let quickchartButtonEl =\n",
              "            document.querySelector('#df-c750542b-d187-44de-820c-9cfba86cd5f8 button');\n",
              "          quickchartButtonEl.style.display =\n",
              "            google.colab.kernel.accessAllowed ? 'block' : 'none';\n",
              "        })();\n",
              "      </script>\n",
              "    </div>\n",
              "\n",
              "    </div>\n",
              "  </div>\n"
            ],
            "application/vnd.google.colaboratory.intrinsic+json": {
              "type": "dataframe",
              "variable_name": "df",
              "summary": "{\n  \"name\": \"df\",\n  \"rows\": 450,\n  \"fields\": [\n    {\n      \"column\": \"Patient_ID\",\n      \"properties\": {\n        \"dtype\": \"number\",\n        \"std\": 130,\n        \"min\": 1001,\n        \"max\": 1450,\n        \"num_unique_values\": 450,\n        \"samples\": [\n          1408,\n          1445,\n          1118\n        ],\n        \"semantic_type\": \"\",\n        \"description\": \"\"\n      }\n    },\n    {\n      \"column\": \"Diagnosis\",\n      \"properties\": {\n        \"dtype\": \"category\",\n        \"num_unique_values\": 7,\n        \"samples\": [\n          \"Melanoma\",\n          \"Colorectal Cancer\",\n          \"Breast Cancer\"\n        ],\n        \"semantic_type\": \"\",\n        \"description\": \"\"\n      }\n    },\n    {\n      \"column\": \"Stage\",\n      \"properties\": {\n        \"dtype\": \"category\",\n        \"num_unique_values\": 4,\n        \"samples\": [\n          \"Stage III\",\n          \"Stage IV\",\n          \"Stage I\"\n        ],\n        \"semantic_type\": \"\",\n        \"description\": \"\"\n      }\n    },\n    {\n      \"column\": \"Start_Date\",\n      \"properties\": {\n        \"dtype\": \"date\",\n        \"min\": \"2022-01-02 00:00:00\",\n        \"max\": \"2023-12-30 00:00:00\",\n        \"num_unique_values\": 334,\n        \"samples\": [\n          \"2022-12-29 00:00:00\",\n          \"2023-12-30 00:00:00\",\n          \"2022-09-02 00:00:00\"\n        ],\n        \"semantic_type\": \"\",\n        \"description\": \"\"\n      }\n    },\n    {\n      \"column\": \"End_Date\",\n      \"properties\": {\n        \"dtype\": \"date\",\n        \"min\": \"2022-02-13 00:00:00\",\n        \"max\": \"2024-08-27 00:00:00\",\n        \"num_unique_values\": 342,\n        \"samples\": [\n          \"2022-11-02 00:00:00\",\n          \"2024-02-23 00:00:00\",\n          \"2023-12-17 00:00:00\"\n        ],\n        \"semantic_type\": \"\",\n        \"description\": \"\"\n      }\n    },\n    {\n      \"column\": \"Outcome\",\n      \"properties\": {\n        \"dtype\": \"category\",\n        \"num_unique_values\": 4,\n        \"samples\": [\n          \"Remission\",\n          \"Progression\",\n          \"Stable\"\n        ],\n        \"semantic_type\": \"\",\n        \"description\": \"\"\n      }\n    },\n    {\n      \"column\": \"Treatment_Response_Score\",\n      \"properties\": {\n        \"dtype\": \"number\",\n        \"std\": 18.117292590757156,\n        \"min\": 10.0,\n        \"max\": 100.0,\n        \"num_unique_values\": 303,\n        \"samples\": [\n          71.3,\n          60.1,\n          72.0\n        ],\n        \"semantic_type\": \"\",\n        \"description\": \"\"\n      }\n    },\n    {\n      \"column\": \"Drug_Regimen\",\n      \"properties\": {\n        \"dtype\": \"category\",\n        \"num_unique_values\": 4,\n        \"samples\": [\n          \"Regimen A\",\n          \"Regimen D\",\n          \"Regimen B\"\n        ],\n        \"semantic_type\": \"\",\n        \"description\": \"\"\n      }\n    },\n    {\n      \"column\": \"Hospital\",\n      \"properties\": {\n        \"dtype\": \"category\",\n        \"num_unique_values\": 5,\n        \"samples\": [\n          \"Sloan Kettering\",\n          \"Mayo Clinic\",\n          \"Cleveland Clinic\"\n        ],\n        \"semantic_type\": \"\",\n        \"description\": \"\"\n      }\n    },\n    {\n      \"column\": \"Doctor\",\n      \"properties\": {\n        \"dtype\": \"category\",\n        \"num_unique_values\": 7,\n        \"samples\": [\n          \"Dr. Lee\",\n          \"Dr. Brown\",\n          \"Dr. Adams\"\n        ],\n        \"semantic_type\": \"\",\n        \"description\": \"\"\n      }\n    },\n    {\n      \"column\": \"Survival_Status\",\n      \"properties\": {\n        \"dtype\": \"category\",\n        \"num_unique_values\": 2,\n        \"samples\": [\n          \"Deceased\",\n          \"Alive\"\n        ],\n        \"semantic_type\": \"\",\n        \"description\": \"\"\n      }\n    },\n    {\n      \"column\": \"Treatment_Cost_USD\",\n      \"properties\": {\n        \"dtype\": \"number\",\n        \"std\": 7429.980503888606,\n        \"min\": 14773.35,\n        \"max\": 58091.61,\n        \"num_unique_values\": 450,\n        \"samples\": [\n          38535.62,\n          45366.19\n        ],\n        \"semantic_type\": \"\",\n        \"description\": \"\"\n      }\n    },\n    {\n      \"column\": \"Number_of_Cycles\",\n      \"properties\": {\n        \"dtype\": \"number\",\n        \"std\": 2,\n        \"min\": 3,\n        \"max\": 11,\n        \"num_unique_values\": 9,\n        \"samples\": [\n          8,\n          6\n        ],\n        \"semantic_type\": \"\",\n        \"description\": \"\"\n      }\n    },\n    {\n      \"column\": \"Time_to_Response_Days\",\n      \"properties\": {\n        \"dtype\": \"number\",\n        \"std\": 32,\n        \"min\": 10,\n        \"max\": 119,\n        \"num_unique_values\": 108,\n        \"samples\": [\n          114,\n          41\n        ],\n        \"semantic_type\": \"\",\n        \"description\": \"\"\n      }\n    },\n    {\n      \"column\": \"Follow_Up_Visits\",\n      \"properties\": {\n        \"dtype\": \"number\",\n        \"std\": 2,\n        \"min\": 1,\n        \"max\": 9,\n        \"num_unique_values\": 9,\n        \"samples\": [\n          4,\n          2\n        ],\n        \"semantic_type\": \"\",\n        \"description\": \"\"\n      }\n    }\n  ]\n}"
            }
          },
          "metadata": {},
          "execution_count": 5
        }
      ]
    },
    {
      "cell_type": "markdown",
      "source": [
        "# Data Cleaning"
      ],
      "metadata": {
        "id": "dRv6KXT1NaOL"
      }
    },
    {
      "cell_type": "markdown",
      "source": [
        "Untuk Melihat kolom"
      ],
      "metadata": {
        "id": "c8VbfWA6NC9L"
      }
    },
    {
      "cell_type": "code",
      "source": [
        "print(df.columns)"
      ],
      "metadata": {
        "colab": {
          "base_uri": "https://localhost:8080/"
        },
        "id": "5rKH6ECyNEzM",
        "outputId": "e7873821-1683-4e8b-a4ea-2655a90fc4f9"
      },
      "execution_count": null,
      "outputs": [
        {
          "output_type": "stream",
          "name": "stdout",
          "text": [
            "Index(['Patient_ID', 'Diagnosis', 'Stage', 'Start_Date', 'End_Date', 'Outcome',\n",
            "       'Treatment_Response_Score', 'Drug_Regimen', 'Hospital', 'Doctor',\n",
            "       'Survival_Status', 'Treatment_Cost_USD', 'Number_of_Cycles',\n",
            "       'Time_to_Response_Days', 'Follow_Up_Visits'],\n",
            "      dtype='object')\n"
          ]
        }
      ]
    },
    {
      "cell_type": "markdown",
      "source": [
        "Ganti nama kolom agar Konsisten dengan penamaannya"
      ],
      "metadata": {
        "id": "J0BfIzApNPil"
      }
    },
    {
      "cell_type": "code",
      "source": [
        "df.columns = df.columns.str.strip().str.lower().str.replace(\" \", \"_\")"
      ],
      "metadata": {
        "id": "8oHt9kyeNWGY"
      },
      "execution_count": null,
      "outputs": []
    },
    {
      "cell_type": "markdown",
      "source": [
        "Jika ingin meng-Drop rows kosong"
      ],
      "metadata": {
        "id": "_ShZb8xONig4"
      }
    },
    {
      "cell_type": "code",
      "source": [
        "df.dropna(how='all', inplace=True)"
      ],
      "metadata": {
        "id": "FFt24QAoNiQG"
      },
      "execution_count": null,
      "outputs": []
    },
    {
      "cell_type": "markdown",
      "source": [
        "Tampilkan info lagi untuk mengcek"
      ],
      "metadata": {
        "id": "Fi_OBUQnNuB9"
      }
    },
    {
      "cell_type": "code",
      "source": [
        "df.info()"
      ],
      "metadata": {
        "colab": {
          "base_uri": "https://localhost:8080/"
        },
        "id": "FWWvU6yRNxCG",
        "outputId": "777c6d71-327f-4879-b83c-6bd61d9aeca4"
      },
      "execution_count": null,
      "outputs": [
        {
          "output_type": "stream",
          "name": "stdout",
          "text": [
            "<class 'pandas.core.frame.DataFrame'>\n",
            "RangeIndex: 450 entries, 0 to 449\n",
            "Data columns (total 15 columns):\n",
            " #   Column                    Non-Null Count  Dtype         \n",
            "---  ------                    --------------  -----         \n",
            " 0   patient_id                450 non-null    int64         \n",
            " 1   diagnosis                 450 non-null    object        \n",
            " 2   stage                     450 non-null    object        \n",
            " 3   start_date                450 non-null    datetime64[ns]\n",
            " 4   end_date                  450 non-null    datetime64[ns]\n",
            " 5   outcome                   450 non-null    object        \n",
            " 6   treatment_response_score  450 non-null    float64       \n",
            " 7   drug_regimen              450 non-null    object        \n",
            " 8   hospital                  450 non-null    object        \n",
            " 9   doctor                    450 non-null    object        \n",
            " 10  survival_status           450 non-null    object        \n",
            " 11  treatment_cost_usd        450 non-null    float64       \n",
            " 12  number_of_cycles          450 non-null    int64         \n",
            " 13  time_to_response_days     450 non-null    int64         \n",
            " 14  follow_up_visits          450 non-null    int64         \n",
            "dtypes: datetime64[ns](2), float64(2), int64(4), object(7)\n",
            "memory usage: 52.9+ KB\n"
          ]
        }
      ]
    },
    {
      "cell_type": "code",
      "source": [
        "print(df.columns)"
      ],
      "metadata": {
        "colab": {
          "base_uri": "https://localhost:8080/"
        },
        "id": "wP3-fsRuOoeM",
        "outputId": "ee03a9f2-b3de-49fe-e7da-d042b061c81a"
      },
      "execution_count": null,
      "outputs": [
        {
          "output_type": "stream",
          "name": "stdout",
          "text": [
            "Index(['patient_id', 'diagnosis', 'stage', 'start_date', 'end_date', 'outcome',\n",
            "       'treatment_response_score', 'drug_regimen', 'hospital', 'doctor',\n",
            "       'survival_status', 'treatment_cost_usd', 'number_of_cycles',\n",
            "       'time_to_response_days', 'follow_up_visits'],\n",
            "      dtype='object')\n"
          ]
        }
      ]
    },
    {
      "cell_type": "code",
      "source": [
        "print(df.columns.tolist())"
      ],
      "metadata": {
        "colab": {
          "base_uri": "https://localhost:8080/"
        },
        "id": "AONVJ4rePRcu",
        "outputId": "8064e63e-3d19-4a5e-b29a-58e6bb813bfa"
      },
      "execution_count": null,
      "outputs": [
        {
          "output_type": "stream",
          "name": "stdout",
          "text": [
            "['patient_id', 'diagnosis', 'stage', 'start_date', 'end_date', 'outcome', 'treatment_response_score', 'drug_regimen', 'hospital', 'doctor', 'survival_status', 'treatment_cost_usd', 'number_of_cycles', 'time_to_response_days', 'follow_up_visits']\n"
          ]
        }
      ]
    },
    {
      "cell_type": "markdown",
      "source": [
        "#Membuat Tabel Dimensi"
      ],
      "metadata": {
        "id": "XRblEgsYN6D8"
      }
    },
    {
      "cell_type": "markdown",
      "source": [],
      "metadata": {
        "id": "CxlxeI3bOBlg"
      }
    },
    {
      "cell_type": "code",
      "source": [
        "dim_patient = df[['patient_id']].drop_duplicates().reset_index(drop=True)\n",
        "dim_patient['patient_key'] = dim_patient.index + 1"
      ],
      "metadata": {
        "id": "4k8Q98v8aRga"
      },
      "execution_count": null,
      "outputs": []
    },
    {
      "cell_type": "code",
      "source": [
        "dim_hospital = df[['hospital', 'doctor']].drop_duplicates().reset_index(drop=True)\n",
        "dim_hospital['hospital_key'] = dim_hospital.index + 1"
      ],
      "metadata": {
        "id": "hyt_z-BCaVGB"
      },
      "execution_count": null,
      "outputs": []
    },
    {
      "cell_type": "code",
      "source": [
        "dim_diagnosis = df[['diagnosis', 'stage']].drop_duplicates().reset_index(drop=True)\n",
        "dim_diagnosis['diagnosis_key'] = dim_diagnosis.index + 1"
      ],
      "metadata": {
        "id": "7loYbGt0aX41"
      },
      "execution_count": null,
      "outputs": []
    },
    {
      "cell_type": "code",
      "source": [
        "print(df.columns)"
      ],
      "metadata": {
        "colab": {
          "base_uri": "https://localhost:8080/"
        },
        "outputId": "ee03a9f2-b3de-49fe-e7da-d042b061c81a",
        "id": "-pw28hFqb5eC"
      },
      "execution_count": null,
      "outputs": [
        {
          "output_type": "stream",
          "name": "stdout",
          "text": [
            "Index(['patient_id', 'diagnosis', 'stage', 'start_date', 'end_date', 'outcome',\n",
            "       'treatment_response_score', 'drug_regimen', 'hospital', 'doctor',\n",
            "       'survival_status', 'treatment_cost_usd', 'number_of_cycles',\n",
            "       'time_to_response_days', 'follow_up_visits'],\n",
            "      dtype='object')\n"
          ]
        }
      ]
    },
    {
      "cell_type": "code",
      "source": [
        "fact_treatment = df[['patient_id', 'diagnosis', 'stage', 'start_date', 'end_date', 'outcome',\n",
        "       'treatment_response_score', 'drug_regimen', 'hospital', 'doctor',\n",
        "       'survival_status', 'treatment_cost_usd', 'number_of_cycles',\n",
        "       'time_to_response_days', 'follow_up_visits']]"
      ],
      "metadata": {
        "id": "cF4k9KUdagOp"
      },
      "execution_count": null,
      "outputs": []
    },
    {
      "cell_type": "code",
      "source": [
        "fact_table = df.merge(dim_patient, on='patient_id') \\\n",
        "               .merge(dim_hospital, on='hospital') \\\n",
        "               .merge(dim_diagnosis, on='diagnosis')"
      ],
      "metadata": {
        "id": "Bgaoas-Ja36b"
      },
      "execution_count": null,
      "outputs": []
    },
    {
      "cell_type": "code",
      "source": [
        "print(dim_patient.head())\n",
        "print(dim_hospital.head())\n",
        "print(dim_diagnosis.head())"
      ],
      "metadata": {
        "colab": {
          "base_uri": "https://localhost:8080/"
        },
        "outputId": "864ee3c0-d79a-4e29-ffa7-8ab5044a5f44",
        "id": "UVyBv2L1b9Nn"
      },
      "execution_count": null,
      "outputs": [
        {
          "output_type": "stream",
          "name": "stdout",
          "text": [
            "   patient_id  patient_key\n",
            "0        1001            1\n",
            "1        1002            2\n",
            "2        1003            3\n",
            "3        1004            4\n",
            "4        1005            5\n",
            "           hospital     doctor  hospital_key\n",
            "0       MD Anderson    Dr. Lee             1\n",
            "1   Sloan Kettering    Dr. Lee             2\n",
            "2  Cleveland Clinic  Dr. Brown             3\n",
            "3     Johns Hopkins    Dr. Lee             4\n",
            "4     Johns Hopkins   Dr. Chen             5\n",
            "           diagnosis      stage  diagnosis_key\n",
            "0           Melanoma    Stage I              1\n",
            "1  Colorectal Cancer    Stage I              2\n",
            "2    Prostate Cancer    Stage I              3\n",
            "3        Lung Cancer  Stage III              4\n",
            "4    Prostate Cancer  Stage III              5\n"
          ]
        }
      ]
    },
    {
      "cell_type": "code",
      "source": [
        "dim_date = df[['start_date']].drop_duplicates().reset_index(drop=True)\n",
        "dim_date['Year'] = dim_date['start_date'].dt.year\n",
        "dim_date['Month'] = dim_date['start_date'].dt.month\n",
        "dim_date['Day'] = dim_date['start_date'].dt.day"
      ],
      "metadata": {
        "id": "g0DagfTjciTM"
      },
      "execution_count": null,
      "outputs": []
    },
    {
      "cell_type": "code",
      "source": [
        "print(fact_treatment.head())"
      ],
      "metadata": {
        "colab": {
          "base_uri": "https://localhost:8080/"
        },
        "id": "VquVSARVcZcB",
        "outputId": "09cb3083-cbc1-45eb-a055-4899b870204f"
      },
      "execution_count": null,
      "outputs": [
        {
          "output_type": "stream",
          "name": "stdout",
          "text": [
            "   patient_id          diagnosis      stage start_date   end_date    outcome  \\\n",
            "0        1001           Melanoma    Stage I 2022-01-26 2022-09-02     Stable   \n",
            "1        1002           Melanoma    Stage I 2023-08-28 2024-01-13  Remission   \n",
            "2        1003  Colorectal Cancer    Stage I 2023-07-29 2023-10-17   Deceased   \n",
            "3        1004    Prostate Cancer    Stage I 2022-06-13 2023-01-07   Deceased   \n",
            "4        1005        Lung Cancer  Stage III 2022-04-15 2022-06-07   Deceased   \n",
            "\n",
            "   treatment_response_score drug_regimen          hospital     doctor  \\\n",
            "0                      79.9    Regimen B       MD Anderson    Dr. Lee   \n",
            "1                      67.2    Regimen A   Sloan Kettering    Dr. Lee   \n",
            "2                      83.0    Regimen B  Cleveland Clinic  Dr. Brown   \n",
            "3                     100.0    Regimen C     Johns Hopkins    Dr. Lee   \n",
            "4                      65.3    Regimen A     Johns Hopkins   Dr. Chen   \n",
            "\n",
            "  survival_status  treatment_cost_usd  number_of_cycles  \\\n",
            "0           Alive            34529.91                 4   \n",
            "1           Alive            42163.57                 6   \n",
            "2        Deceased            27607.05                 4   \n",
            "3        Deceased            38780.35                 9   \n",
            "4        Deceased            31023.07                 4   \n",
            "\n",
            "   time_to_response_days  follow_up_visits  \n",
            "0                     42                 5  \n",
            "1                     30                 2  \n",
            "2                     90                 1  \n",
            "3                     31                 8  \n",
            "4                     57                 2  \n"
          ]
        }
      ]
    },
    {
      "cell_type": "code",
      "source": [
        "df.head()"
      ],
      "metadata": {
        "colab": {
          "base_uri": "https://localhost:8080/",
          "height": 313
        },
        "outputId": "4d84a89e-37f9-4c6e-a007-d1151428f7bd",
        "id": "rKumGAIQe1LV"
      },
      "execution_count": null,
      "outputs": [
        {
          "output_type": "execute_result",
          "data": {
            "text/plain": [
              "   patient_id          diagnosis      stage start_date   end_date    outcome  \\\n",
              "0        1001           Melanoma    Stage I 2022-01-26 2022-09-02     Stable   \n",
              "1        1002           Melanoma    Stage I 2023-08-28 2024-01-13  Remission   \n",
              "2        1003  Colorectal Cancer    Stage I 2023-07-29 2023-10-17   Deceased   \n",
              "3        1004    Prostate Cancer    Stage I 2022-06-13 2023-01-07   Deceased   \n",
              "4        1005        Lung Cancer  Stage III 2022-04-15 2022-06-07   Deceased   \n",
              "\n",
              "   treatment_response_score drug_regimen          hospital     doctor  \\\n",
              "0                      79.9    Regimen B       MD Anderson    Dr. Lee   \n",
              "1                      67.2    Regimen A   Sloan Kettering    Dr. Lee   \n",
              "2                      83.0    Regimen B  Cleveland Clinic  Dr. Brown   \n",
              "3                     100.0    Regimen C     Johns Hopkins    Dr. Lee   \n",
              "4                      65.3    Regimen A     Johns Hopkins   Dr. Chen   \n",
              "\n",
              "  survival_status  treatment_cost_usd  number_of_cycles  \\\n",
              "0           Alive            34529.91                 4   \n",
              "1           Alive            42163.57                 6   \n",
              "2        Deceased            27607.05                 4   \n",
              "3        Deceased            38780.35                 9   \n",
              "4        Deceased            31023.07                 4   \n",
              "\n",
              "   time_to_response_days  follow_up_visits  \n",
              "0                     42                 5  \n",
              "1                     30                 2  \n",
              "2                     90                 1  \n",
              "3                     31                 8  \n",
              "4                     57                 2  "
            ],
            "text/html": [
              "\n",
              "  <div id=\"df-42e60c55-259e-4ad7-b930-1a82a9f3cf54\" class=\"colab-df-container\">\n",
              "    <div>\n",
              "<style scoped>\n",
              "    .dataframe tbody tr th:only-of-type {\n",
              "        vertical-align: middle;\n",
              "    }\n",
              "\n",
              "    .dataframe tbody tr th {\n",
              "        vertical-align: top;\n",
              "    }\n",
              "\n",
              "    .dataframe thead th {\n",
              "        text-align: right;\n",
              "    }\n",
              "</style>\n",
              "<table border=\"1\" class=\"dataframe\">\n",
              "  <thead>\n",
              "    <tr style=\"text-align: right;\">\n",
              "      <th></th>\n",
              "      <th>patient_id</th>\n",
              "      <th>diagnosis</th>\n",
              "      <th>stage</th>\n",
              "      <th>start_date</th>\n",
              "      <th>end_date</th>\n",
              "      <th>outcome</th>\n",
              "      <th>treatment_response_score</th>\n",
              "      <th>drug_regimen</th>\n",
              "      <th>hospital</th>\n",
              "      <th>doctor</th>\n",
              "      <th>survival_status</th>\n",
              "      <th>treatment_cost_usd</th>\n",
              "      <th>number_of_cycles</th>\n",
              "      <th>time_to_response_days</th>\n",
              "      <th>follow_up_visits</th>\n",
              "    </tr>\n",
              "  </thead>\n",
              "  <tbody>\n",
              "    <tr>\n",
              "      <th>0</th>\n",
              "      <td>1001</td>\n",
              "      <td>Melanoma</td>\n",
              "      <td>Stage I</td>\n",
              "      <td>2022-01-26</td>\n",
              "      <td>2022-09-02</td>\n",
              "      <td>Stable</td>\n",
              "      <td>79.9</td>\n",
              "      <td>Regimen B</td>\n",
              "      <td>MD Anderson</td>\n",
              "      <td>Dr. Lee</td>\n",
              "      <td>Alive</td>\n",
              "      <td>34529.91</td>\n",
              "      <td>4</td>\n",
              "      <td>42</td>\n",
              "      <td>5</td>\n",
              "    </tr>\n",
              "    <tr>\n",
              "      <th>1</th>\n",
              "      <td>1002</td>\n",
              "      <td>Melanoma</td>\n",
              "      <td>Stage I</td>\n",
              "      <td>2023-08-28</td>\n",
              "      <td>2024-01-13</td>\n",
              "      <td>Remission</td>\n",
              "      <td>67.2</td>\n",
              "      <td>Regimen A</td>\n",
              "      <td>Sloan Kettering</td>\n",
              "      <td>Dr. Lee</td>\n",
              "      <td>Alive</td>\n",
              "      <td>42163.57</td>\n",
              "      <td>6</td>\n",
              "      <td>30</td>\n",
              "      <td>2</td>\n",
              "    </tr>\n",
              "    <tr>\n",
              "      <th>2</th>\n",
              "      <td>1003</td>\n",
              "      <td>Colorectal Cancer</td>\n",
              "      <td>Stage I</td>\n",
              "      <td>2023-07-29</td>\n",
              "      <td>2023-10-17</td>\n",
              "      <td>Deceased</td>\n",
              "      <td>83.0</td>\n",
              "      <td>Regimen B</td>\n",
              "      <td>Cleveland Clinic</td>\n",
              "      <td>Dr. Brown</td>\n",
              "      <td>Deceased</td>\n",
              "      <td>27607.05</td>\n",
              "      <td>4</td>\n",
              "      <td>90</td>\n",
              "      <td>1</td>\n",
              "    </tr>\n",
              "    <tr>\n",
              "      <th>3</th>\n",
              "      <td>1004</td>\n",
              "      <td>Prostate Cancer</td>\n",
              "      <td>Stage I</td>\n",
              "      <td>2022-06-13</td>\n",
              "      <td>2023-01-07</td>\n",
              "      <td>Deceased</td>\n",
              "      <td>100.0</td>\n",
              "      <td>Regimen C</td>\n",
              "      <td>Johns Hopkins</td>\n",
              "      <td>Dr. Lee</td>\n",
              "      <td>Deceased</td>\n",
              "      <td>38780.35</td>\n",
              "      <td>9</td>\n",
              "      <td>31</td>\n",
              "      <td>8</td>\n",
              "    </tr>\n",
              "    <tr>\n",
              "      <th>4</th>\n",
              "      <td>1005</td>\n",
              "      <td>Lung Cancer</td>\n",
              "      <td>Stage III</td>\n",
              "      <td>2022-04-15</td>\n",
              "      <td>2022-06-07</td>\n",
              "      <td>Deceased</td>\n",
              "      <td>65.3</td>\n",
              "      <td>Regimen A</td>\n",
              "      <td>Johns Hopkins</td>\n",
              "      <td>Dr. Chen</td>\n",
              "      <td>Deceased</td>\n",
              "      <td>31023.07</td>\n",
              "      <td>4</td>\n",
              "      <td>57</td>\n",
              "      <td>2</td>\n",
              "    </tr>\n",
              "  </tbody>\n",
              "</table>\n",
              "</div>\n",
              "    <div class=\"colab-df-buttons\">\n",
              "\n",
              "  <div class=\"colab-df-container\">\n",
              "    <button class=\"colab-df-convert\" onclick=\"convertToInteractive('df-42e60c55-259e-4ad7-b930-1a82a9f3cf54')\"\n",
              "            title=\"Convert this dataframe to an interactive table.\"\n",
              "            style=\"display:none;\">\n",
              "\n",
              "  <svg xmlns=\"http://www.w3.org/2000/svg\" height=\"24px\" viewBox=\"0 -960 960 960\">\n",
              "    <path d=\"M120-120v-720h720v720H120Zm60-500h600v-160H180v160Zm220 220h160v-160H400v160Zm0 220h160v-160H400v160ZM180-400h160v-160H180v160Zm440 0h160v-160H620v160ZM180-180h160v-160H180v160Zm440 0h160v-160H620v160Z\"/>\n",
              "  </svg>\n",
              "    </button>\n",
              "\n",
              "  <style>\n",
              "    .colab-df-container {\n",
              "      display:flex;\n",
              "      gap: 12px;\n",
              "    }\n",
              "\n",
              "    .colab-df-convert {\n",
              "      background-color: #E8F0FE;\n",
              "      border: none;\n",
              "      border-radius: 50%;\n",
              "      cursor: pointer;\n",
              "      display: none;\n",
              "      fill: #1967D2;\n",
              "      height: 32px;\n",
              "      padding: 0 0 0 0;\n",
              "      width: 32px;\n",
              "    }\n",
              "\n",
              "    .colab-df-convert:hover {\n",
              "      background-color: #E2EBFA;\n",
              "      box-shadow: 0px 1px 2px rgba(60, 64, 67, 0.3), 0px 1px 3px 1px rgba(60, 64, 67, 0.15);\n",
              "      fill: #174EA6;\n",
              "    }\n",
              "\n",
              "    .colab-df-buttons div {\n",
              "      margin-bottom: 4px;\n",
              "    }\n",
              "\n",
              "    [theme=dark] .colab-df-convert {\n",
              "      background-color: #3B4455;\n",
              "      fill: #D2E3FC;\n",
              "    }\n",
              "\n",
              "    [theme=dark] .colab-df-convert:hover {\n",
              "      background-color: #434B5C;\n",
              "      box-shadow: 0px 1px 3px 1px rgba(0, 0, 0, 0.15);\n",
              "      filter: drop-shadow(0px 1px 2px rgba(0, 0, 0, 0.3));\n",
              "      fill: #FFFFFF;\n",
              "    }\n",
              "  </style>\n",
              "\n",
              "    <script>\n",
              "      const buttonEl =\n",
              "        document.querySelector('#df-42e60c55-259e-4ad7-b930-1a82a9f3cf54 button.colab-df-convert');\n",
              "      buttonEl.style.display =\n",
              "        google.colab.kernel.accessAllowed ? 'block' : 'none';\n",
              "\n",
              "      async function convertToInteractive(key) {\n",
              "        const element = document.querySelector('#df-42e60c55-259e-4ad7-b930-1a82a9f3cf54');\n",
              "        const dataTable =\n",
              "          await google.colab.kernel.invokeFunction('convertToInteractive',\n",
              "                                                    [key], {});\n",
              "        if (!dataTable) return;\n",
              "\n",
              "        const docLinkHtml = 'Like what you see? Visit the ' +\n",
              "          '<a target=\"_blank\" href=https://colab.research.google.com/notebooks/data_table.ipynb>data table notebook</a>'\n",
              "          + ' to learn more about interactive tables.';\n",
              "        element.innerHTML = '';\n",
              "        dataTable['output_type'] = 'display_data';\n",
              "        await google.colab.output.renderOutput(dataTable, element);\n",
              "        const docLink = document.createElement('div');\n",
              "        docLink.innerHTML = docLinkHtml;\n",
              "        element.appendChild(docLink);\n",
              "      }\n",
              "    </script>\n",
              "  </div>\n",
              "\n",
              "\n",
              "    <div id=\"df-bf1161ca-35f5-4490-9047-4e0c98d1cbb5\">\n",
              "      <button class=\"colab-df-quickchart\" onclick=\"quickchart('df-bf1161ca-35f5-4490-9047-4e0c98d1cbb5')\"\n",
              "                title=\"Suggest charts\"\n",
              "                style=\"display:none;\">\n",
              "\n",
              "<svg xmlns=\"http://www.w3.org/2000/svg\" height=\"24px\"viewBox=\"0 0 24 24\"\n",
              "     width=\"24px\">\n",
              "    <g>\n",
              "        <path d=\"M19 3H5c-1.1 0-2 .9-2 2v14c0 1.1.9 2 2 2h14c1.1 0 2-.9 2-2V5c0-1.1-.9-2-2-2zM9 17H7v-7h2v7zm4 0h-2V7h2v10zm4 0h-2v-4h2v4z\"/>\n",
              "    </g>\n",
              "</svg>\n",
              "      </button>\n",
              "\n",
              "<style>\n",
              "  .colab-df-quickchart {\n",
              "      --bg-color: #E8F0FE;\n",
              "      --fill-color: #1967D2;\n",
              "      --hover-bg-color: #E2EBFA;\n",
              "      --hover-fill-color: #174EA6;\n",
              "      --disabled-fill-color: #AAA;\n",
              "      --disabled-bg-color: #DDD;\n",
              "  }\n",
              "\n",
              "  [theme=dark] .colab-df-quickchart {\n",
              "      --bg-color: #3B4455;\n",
              "      --fill-color: #D2E3FC;\n",
              "      --hover-bg-color: #434B5C;\n",
              "      --hover-fill-color: #FFFFFF;\n",
              "      --disabled-bg-color: #3B4455;\n",
              "      --disabled-fill-color: #666;\n",
              "  }\n",
              "\n",
              "  .colab-df-quickchart {\n",
              "    background-color: var(--bg-color);\n",
              "    border: none;\n",
              "    border-radius: 50%;\n",
              "    cursor: pointer;\n",
              "    display: none;\n",
              "    fill: var(--fill-color);\n",
              "    height: 32px;\n",
              "    padding: 0;\n",
              "    width: 32px;\n",
              "  }\n",
              "\n",
              "  .colab-df-quickchart:hover {\n",
              "    background-color: var(--hover-bg-color);\n",
              "    box-shadow: 0 1px 2px rgba(60, 64, 67, 0.3), 0 1px 3px 1px rgba(60, 64, 67, 0.15);\n",
              "    fill: var(--button-hover-fill-color);\n",
              "  }\n",
              "\n",
              "  .colab-df-quickchart-complete:disabled,\n",
              "  .colab-df-quickchart-complete:disabled:hover {\n",
              "    background-color: var(--disabled-bg-color);\n",
              "    fill: var(--disabled-fill-color);\n",
              "    box-shadow: none;\n",
              "  }\n",
              "\n",
              "  .colab-df-spinner {\n",
              "    border: 2px solid var(--fill-color);\n",
              "    border-color: transparent;\n",
              "    border-bottom-color: var(--fill-color);\n",
              "    animation:\n",
              "      spin 1s steps(1) infinite;\n",
              "  }\n",
              "\n",
              "  @keyframes spin {\n",
              "    0% {\n",
              "      border-color: transparent;\n",
              "      border-bottom-color: var(--fill-color);\n",
              "      border-left-color: var(--fill-color);\n",
              "    }\n",
              "    20% {\n",
              "      border-color: transparent;\n",
              "      border-left-color: var(--fill-color);\n",
              "      border-top-color: var(--fill-color);\n",
              "    }\n",
              "    30% {\n",
              "      border-color: transparent;\n",
              "      border-left-color: var(--fill-color);\n",
              "      border-top-color: var(--fill-color);\n",
              "      border-right-color: var(--fill-color);\n",
              "    }\n",
              "    40% {\n",
              "      border-color: transparent;\n",
              "      border-right-color: var(--fill-color);\n",
              "      border-top-color: var(--fill-color);\n",
              "    }\n",
              "    60% {\n",
              "      border-color: transparent;\n",
              "      border-right-color: var(--fill-color);\n",
              "    }\n",
              "    80% {\n",
              "      border-color: transparent;\n",
              "      border-right-color: var(--fill-color);\n",
              "      border-bottom-color: var(--fill-color);\n",
              "    }\n",
              "    90% {\n",
              "      border-color: transparent;\n",
              "      border-bottom-color: var(--fill-color);\n",
              "    }\n",
              "  }\n",
              "</style>\n",
              "\n",
              "      <script>\n",
              "        async function quickchart(key) {\n",
              "          const quickchartButtonEl =\n",
              "            document.querySelector('#' + key + ' button');\n",
              "          quickchartButtonEl.disabled = true;  // To prevent multiple clicks.\n",
              "          quickchartButtonEl.classList.add('colab-df-spinner');\n",
              "          try {\n",
              "            const charts = await google.colab.kernel.invokeFunction(\n",
              "                'suggestCharts', [key], {});\n",
              "          } catch (error) {\n",
              "            console.error('Error during call to suggestCharts:', error);\n",
              "          }\n",
              "          quickchartButtonEl.classList.remove('colab-df-spinner');\n",
              "          quickchartButtonEl.classList.add('colab-df-quickchart-complete');\n",
              "        }\n",
              "        (() => {\n",
              "          let quickchartButtonEl =\n",
              "            document.querySelector('#df-bf1161ca-35f5-4490-9047-4e0c98d1cbb5 button');\n",
              "          quickchartButtonEl.style.display =\n",
              "            google.colab.kernel.accessAllowed ? 'block' : 'none';\n",
              "        })();\n",
              "      </script>\n",
              "    </div>\n",
              "\n",
              "    </div>\n",
              "  </div>\n"
            ],
            "application/vnd.google.colaboratory.intrinsic+json": {
              "type": "dataframe",
              "variable_name": "df",
              "summary": "{\n  \"name\": \"df\",\n  \"rows\": 450,\n  \"fields\": [\n    {\n      \"column\": \"patient_id\",\n      \"properties\": {\n        \"dtype\": \"number\",\n        \"std\": 130,\n        \"min\": 1001,\n        \"max\": 1450,\n        \"num_unique_values\": 450,\n        \"samples\": [\n          1408,\n          1445,\n          1118\n        ],\n        \"semantic_type\": \"\",\n        \"description\": \"\"\n      }\n    },\n    {\n      \"column\": \"diagnosis\",\n      \"properties\": {\n        \"dtype\": \"category\",\n        \"num_unique_values\": 7,\n        \"samples\": [\n          \"Melanoma\",\n          \"Colorectal Cancer\",\n          \"Breast Cancer\"\n        ],\n        \"semantic_type\": \"\",\n        \"description\": \"\"\n      }\n    },\n    {\n      \"column\": \"stage\",\n      \"properties\": {\n        \"dtype\": \"category\",\n        \"num_unique_values\": 4,\n        \"samples\": [\n          \"Stage III\",\n          \"Stage IV\",\n          \"Stage I\"\n        ],\n        \"semantic_type\": \"\",\n        \"description\": \"\"\n      }\n    },\n    {\n      \"column\": \"start_date\",\n      \"properties\": {\n        \"dtype\": \"date\",\n        \"min\": \"2022-01-02 00:00:00\",\n        \"max\": \"2023-12-30 00:00:00\",\n        \"num_unique_values\": 334,\n        \"samples\": [\n          \"2022-12-29 00:00:00\",\n          \"2023-12-30 00:00:00\",\n          \"2022-09-02 00:00:00\"\n        ],\n        \"semantic_type\": \"\",\n        \"description\": \"\"\n      }\n    },\n    {\n      \"column\": \"end_date\",\n      \"properties\": {\n        \"dtype\": \"date\",\n        \"min\": \"2022-02-13 00:00:00\",\n        \"max\": \"2024-08-27 00:00:00\",\n        \"num_unique_values\": 342,\n        \"samples\": [\n          \"2022-11-02 00:00:00\",\n          \"2024-02-23 00:00:00\",\n          \"2023-12-17 00:00:00\"\n        ],\n        \"semantic_type\": \"\",\n        \"description\": \"\"\n      }\n    },\n    {\n      \"column\": \"outcome\",\n      \"properties\": {\n        \"dtype\": \"category\",\n        \"num_unique_values\": 4,\n        \"samples\": [\n          \"Remission\",\n          \"Progression\",\n          \"Stable\"\n        ],\n        \"semantic_type\": \"\",\n        \"description\": \"\"\n      }\n    },\n    {\n      \"column\": \"treatment_response_score\",\n      \"properties\": {\n        \"dtype\": \"number\",\n        \"std\": 18.117292590757156,\n        \"min\": 10.0,\n        \"max\": 100.0,\n        \"num_unique_values\": 303,\n        \"samples\": [\n          71.3,\n          60.1,\n          72.0\n        ],\n        \"semantic_type\": \"\",\n        \"description\": \"\"\n      }\n    },\n    {\n      \"column\": \"drug_regimen\",\n      \"properties\": {\n        \"dtype\": \"category\",\n        \"num_unique_values\": 4,\n        \"samples\": [\n          \"Regimen A\",\n          \"Regimen D\",\n          \"Regimen B\"\n        ],\n        \"semantic_type\": \"\",\n        \"description\": \"\"\n      }\n    },\n    {\n      \"column\": \"hospital\",\n      \"properties\": {\n        \"dtype\": \"category\",\n        \"num_unique_values\": 5,\n        \"samples\": [\n          \"Sloan Kettering\",\n          \"Mayo Clinic\",\n          \"Cleveland Clinic\"\n        ],\n        \"semantic_type\": \"\",\n        \"description\": \"\"\n      }\n    },\n    {\n      \"column\": \"doctor\",\n      \"properties\": {\n        \"dtype\": \"category\",\n        \"num_unique_values\": 7,\n        \"samples\": [\n          \"Dr. Lee\",\n          \"Dr. Brown\",\n          \"Dr. Adams\"\n        ],\n        \"semantic_type\": \"\",\n        \"description\": \"\"\n      }\n    },\n    {\n      \"column\": \"survival_status\",\n      \"properties\": {\n        \"dtype\": \"category\",\n        \"num_unique_values\": 2,\n        \"samples\": [\n          \"Deceased\",\n          \"Alive\"\n        ],\n        \"semantic_type\": \"\",\n        \"description\": \"\"\n      }\n    },\n    {\n      \"column\": \"treatment_cost_usd\",\n      \"properties\": {\n        \"dtype\": \"number\",\n        \"std\": 7429.980503888606,\n        \"min\": 14773.35,\n        \"max\": 58091.61,\n        \"num_unique_values\": 450,\n        \"samples\": [\n          38535.62,\n          45366.19\n        ],\n        \"semantic_type\": \"\",\n        \"description\": \"\"\n      }\n    },\n    {\n      \"column\": \"number_of_cycles\",\n      \"properties\": {\n        \"dtype\": \"number\",\n        \"std\": 2,\n        \"min\": 3,\n        \"max\": 11,\n        \"num_unique_values\": 9,\n        \"samples\": [\n          8,\n          6\n        ],\n        \"semantic_type\": \"\",\n        \"description\": \"\"\n      }\n    },\n    {\n      \"column\": \"time_to_response_days\",\n      \"properties\": {\n        \"dtype\": \"number\",\n        \"std\": 32,\n        \"min\": 10,\n        \"max\": 119,\n        \"num_unique_values\": 108,\n        \"samples\": [\n          114,\n          41\n        ],\n        \"semantic_type\": \"\",\n        \"description\": \"\"\n      }\n    },\n    {\n      \"column\": \"follow_up_visits\",\n      \"properties\": {\n        \"dtype\": \"number\",\n        \"std\": 2,\n        \"min\": 1,\n        \"max\": 9,\n        \"num_unique_values\": 9,\n        \"samples\": [\n          4,\n          2\n        ],\n        \"semantic_type\": \"\",\n        \"description\": \"\"\n      }\n    }\n  ]\n}"
            }
          },
          "metadata": {},
          "execution_count": 39
        }
      ]
    }
  ]
}